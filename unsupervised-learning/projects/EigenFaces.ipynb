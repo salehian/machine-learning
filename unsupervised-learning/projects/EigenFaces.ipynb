{
 "cells": [
  {
   "cell_type": "markdown",
   "metadata": {
    "colab_type": "text",
    "id": "SuZ5mfa1lyA7"
   },
   "source": [
    "**EigenFaces**: PCA applied in Facial Recognition"
   ]
  },
  {
   "cell_type": "code",
   "execution_count": 1,
   "metadata": {
    "colab": {},
    "colab_type": "code",
    "id": "9VN2ciD7mUUK"
   },
   "outputs": [],
   "source": [
    "from time import time\n",
    "import logging\n",
    "import pylab as pl\n",
    "import numpy as np\n",
    "\n",
    "from sklearn.model_selection import train_test_split\n",
    "from sklearn.model_selection import GridSearchCV\n",
    "from sklearn.datasets import fetch_lfw_people\n",
    "from sklearn.metrics import classification_report, confusion_matrix\n",
    "from sklearn.decomposition import PCA\n",
    "from sklearn.svm import SVC"
   ]
  },
  {
   "cell_type": "code",
   "execution_count": 2,
   "metadata": {
    "colab": {},
    "colab_type": "code",
    "id": "2I4rrzc0pT5A"
   },
   "outputs": [],
   "source": [
    "# Display progress logs\n",
    "logging.basicConfig(level=logging.INFO, format='%(asctime)s %(message)s')"
   ]
  },
  {
   "cell_type": "code",
   "execution_count": 14,
   "metadata": {
    "colab": {
     "base_uri": "https://localhost:8080/",
     "height": 85
    },
    "colab_type": "code",
    "id": "Do7BMOe_qzAz",
    "outputId": "50a1b10a-fa20-478d-bcf9-0d7b751e9cc9"
   },
   "outputs": [
    {
     "name": "stdout",
     "output_type": "stream",
     "text": [
      "Total dataset size:\n",
      "n_samples: 3023\n",
      "n_features: 1850\n",
      "n_classes: 62\n"
     ]
    }
   ],
   "source": [
    "# Download the dataset and load it as numpy arrays\n",
    "lfw_people = fetch_lfw_people(min_faces_per_person=20, resize=0.4)\n",
    "\n",
    "# Look into the images arrays to find the shapes\n",
    "n_samples, h, w = lfw_people.images.shape\n",
    "np.random.seed(89)\n",
    "\n",
    "# Define X\n",
    "X = lfw_people.data\n",
    "n_features = X.shape[1]\n",
    "\n",
    "# Define ids of the people\n",
    "y = lfw_people.target\n",
    "target_names = lfw_people.target_names\n",
    "n_classes = target_names.shape[0]\n",
    "\n",
    "print(\"Total dataset size:\")\n",
    "print(\"n_samples: %d\" % n_samples)\n",
    "print(\"n_features: %d\" % n_features)\n",
    "print(\"n_classes: %d\" % n_classes)"
   ]
  },
  {
   "cell_type": "code",
   "execution_count": 15,
   "metadata": {
    "colab": {},
    "colab_type": "code",
    "id": "QalhJf3RrGrR"
   },
   "outputs": [],
   "source": [
    "# Split into train and test\n",
    "X_train, X_test, y_train, y_test = train_test_split(X, y, test_size=0.2, shuffle=True, random_state=89)"
   ]
  },
  {
   "cell_type": "code",
   "execution_count": 16,
   "metadata": {
    "colab": {
     "base_uri": "https://localhost:8080/",
     "height": 85
    },
    "colab_type": "code",
    "id": "XHM_C69CrTk-",
    "outputId": "33d8967c-60d8-4265-b485-09aa26a9dfc5"
   },
   "outputs": [
    {
     "name": "stdout",
     "output_type": "stream",
     "text": [
      "Extracting the top 123 eigenfaces from 2418 faces\n",
      "done in 0.542s\n",
      "Projecting the input data on the eigenfaces orthonormal basis\n",
      "done in 0.046s\n"
     ]
    }
   ],
   "source": [
    "# Compute a PCA (eigenfaces) on the face dataset (treated as unlabeled dataset):\n",
    "# unsupervised feature extraction / dimensionality reduction\n",
    "n_components = 123\n",
    "\n",
    "print(\"Extracting the top %d eigenfaces from %d faces\" % (n_components, X_train.shape[0]))\n",
    "t0 = time()\n",
    "pca = PCA(n_components=n_components, svd_solver='randomized', whiten=True).fit(X_train)\n",
    "print(\"done in %0.3fs\" % (time() - t0))\n",
    "\n",
    "eigenfaces = pca.components_.reshape((n_components, h, w))\n",
    "\n",
    "print(\"Projecting the input data on the eigenfaces orthonormal basis\")\n",
    "t0 = time()\n",
    "X_train_pca = pca.transform(X_train)\n",
    "X_test_pca = pca.transform(X_test)\n",
    "print(\"done in %0.3fs\" % (time() - t0))"
   ]
  },
  {
   "cell_type": "code",
   "execution_count": 17,
   "metadata": {
    "colab": {
     "base_uri": "https://localhost:8080/",
     "height": 136
    },
    "colab_type": "code",
    "id": "xn09_oKar0jt",
    "outputId": "dc257b71-8787-478a-c8d0-657ca3995207"
   },
   "outputs": [
    {
     "name": "stdout",
     "output_type": "stream",
     "text": [
      "Fitting the classifier to the training set\n",
      "done in 356.918s\n",
      "Best estimator found by grid search:\n",
      "SVC(C=1000.0, break_ties=False, cache_size=200, class_weight='balanced',\n",
      "    coef0=0.0, decision_function_shape='ovr', degree=3, gamma=0.005,\n",
      "    kernel='rbf', max_iter=-1, probability=False, random_state=None,\n",
      "    shrinking=True, tol=0.001, verbose=False)\n"
     ]
    }
   ],
   "source": [
    "# Train a SVM classification model\n",
    "\n",
    "print (\"Fitting the classifier to the training set\")\n",
    "t0 = time()\n",
    "param_grid = {\n",
    "         'C': [1e3, 5e3, 1e4, 5e4, 1e5],\n",
    "          'gamma': [0.0001, 0.0005, 0.001, 0.005, 0.01, 0.1],\n",
    "          }\n",
    "# for sklearn version 0.16 or prior, the class_weight parameter value is 'auto'\n",
    "clf = GridSearchCV(SVC(kernel='rbf', class_weight='balanced'), param_grid)\n",
    "clf = clf.fit(X_train_pca, y_train)\n",
    "print (\"done in %0.3fs\" % (time() - t0))\n",
    "print (\"Best estimator found by grid search:\")\n",
    "print (clf.best_estimator_)"
   ]
  },
  {
   "cell_type": "code",
   "execution_count": 18,
   "metadata": {
    "colab": {
     "base_uri": "https://localhost:8080/",
     "height": 1000
    },
    "colab_type": "code",
    "id": "jSmc1bYEsLuf",
    "outputId": "1f1366ac-6656-4dc0-8152-b2c622c2f601",
    "scrolled": true
   },
   "outputs": [
    {
     "name": "stdout",
     "output_type": "stream",
     "text": [
      "Predicting the people names on the testing set\n",
      "done in 0.427s\n",
      "                           precision    recall  f1-score   support\n",
      "\n",
      "         Alejandro Toledo       0.75      0.67      0.71         9\n",
      "             Alvaro Uribe       0.67      0.29      0.40         7\n",
      "          Amelie Mauresmo       1.00      0.50      0.67         4\n",
      "             Andre Agassi       0.17      0.33      0.22         3\n",
      "           Angelina Jolie       0.50      0.33      0.40         3\n",
      "             Ariel Sharon       0.59      0.81      0.68        16\n",
      "    Arnold Schwarzenegger       1.00      0.20      0.33        10\n",
      "     Atal Bihari Vajpayee       0.00      0.00      0.00         1\n",
      "             Bill Clinton       0.75      0.50      0.60         6\n",
      "             Carlos Menem       0.50      0.33      0.40         3\n",
      "             Colin Powell       0.57      0.83      0.67        46\n",
      "            David Beckham       0.50      0.25      0.33         8\n",
      "          Donald Rumsfeld       0.68      0.71      0.70        21\n",
      "         George Robertson       1.00      0.67      0.80         6\n",
      "            George W Bush       0.51      0.90      0.65       105\n",
      "        Gerhard Schroeder       0.70      0.61      0.65        23\n",
      "  Gloria Macapagal Arroyo       0.78      1.00      0.88         7\n",
      "               Gray Davis       1.00      0.12      0.22         8\n",
      "          Guillermo Coria       1.00      0.33      0.50         9\n",
      "             Hamid Karzai       1.00      0.50      0.67         8\n",
      "                Hans Blix       0.80      0.50      0.62         8\n",
      "              Hugo Chavez       0.92      0.79      0.85        14\n",
      "              Igor Ivanov       0.00      0.00      0.00         5\n",
      "               Jack Straw       1.00      0.18      0.31        11\n",
      "           Jacques Chirac       0.64      0.44      0.52        16\n",
      "            Jean Chretien       0.75      0.67      0.71         9\n",
      "         Jennifer Aniston       0.00      0.00      0.00         2\n",
      "        Jennifer Capriati       1.00      0.50      0.67         8\n",
      "           Jennifer Lopez       0.00      0.00      0.00         4\n",
      "        Jeremy Greenstock       0.00      0.00      0.00         3\n",
      "              Jiang Zemin       1.00      0.40      0.57         5\n",
      "            John Ashcroft       0.21      0.60      0.32         5\n",
      "          John Negroponte       1.00      0.57      0.73         7\n",
      "         Jose Maria Aznar       1.00      0.50      0.67         6\n",
      "      Juan Carlos Ferrero       0.40      1.00      0.57         2\n",
      "        Junichiro Koizumi       0.86      0.75      0.80         8\n",
      "               Kofi Annan       1.00      0.83      0.91         6\n",
      "               Laura Bush       0.86      0.86      0.86         7\n",
      "        Lindsay Davenport       1.00      0.75      0.86         4\n",
      "           Lleyton Hewitt       0.56      0.50      0.53        10\n",
      "Luiz Inacio Lula da Silva       1.00      0.88      0.93         8\n",
      "            Mahmoud Abbas       0.75      0.60      0.67         5\n",
      "    Megawati Sukarnoputri       1.00      0.62      0.76        13\n",
      "        Michael Bloomberg       0.00      0.00      0.00         3\n",
      "              Naomi Watts       1.00      0.17      0.29         6\n",
      "          Nestor Kirchner       1.00      0.40      0.57        10\n",
      "              Paul Bremer       0.50      0.33      0.40         3\n",
      "             Pete Sampras       0.00      0.00      0.00         0\n",
      "     Recep Tayyip Erdogan       1.00      0.57      0.73         7\n",
      "            Ricardo Lagos       0.40      0.40      0.40         5\n",
      "             Roh Moo-hyun       0.83      0.62      0.71         8\n",
      "         Rudolph Giuliani       0.50      0.17      0.25         6\n",
      "           Saddam Hussein       0.83      0.71      0.77         7\n",
      "          Serena Williams       0.57      0.50      0.53         8\n",
      "        Silvio Berlusconi       0.67      0.67      0.67         3\n",
      "              Tiger Woods       1.00      0.50      0.67         2\n",
      "              Tom Daschle       0.67      0.33      0.44         6\n",
      "                Tom Ridge       0.60      0.43      0.50         7\n",
      "               Tony Blair       0.57      0.70      0.63        40\n",
      "              Vicente Fox       1.00      0.67      0.80         3\n",
      "           Vladimir Putin       0.50      0.50      0.50        10\n",
      "             Winona Ryder       0.50      0.50      0.50         2\n",
      "\n",
      "                 accuracy                           0.62       605\n",
      "                macro avg       0.67      0.48      0.53       605\n",
      "             weighted avg       0.68      0.62      0.60       605\n",
      "\n",
      "[[6 0 0 ... 0 0 0]\n",
      " [0 2 0 ... 0 0 0]\n",
      " [1 0 2 ... 0 0 0]\n",
      " ...\n",
      " [0 0 0 ... 2 0 0]\n",
      " [0 0 0 ... 0 5 0]\n",
      " [0 0 0 ... 0 0 1]]\n"
     ]
    },
    {
     "name": "stderr",
     "output_type": "stream",
     "text": [
      "/usr/local/lib/python3.6/dist-packages/sklearn/metrics/_classification.py:1272: UndefinedMetricWarning: Precision and F-score are ill-defined and being set to 0.0 in labels with no predicted samples. Use `zero_division` parameter to control this behavior.\n",
      "  _warn_prf(average, modifier, msg_start, len(result))\n",
      "/usr/local/lib/python3.6/dist-packages/sklearn/metrics/_classification.py:1272: UndefinedMetricWarning: Recall and F-score are ill-defined and being set to 0.0 in labels with no true samples. Use `zero_division` parameter to control this behavior.\n",
      "  _warn_prf(average, modifier, msg_start, len(result))\n"
     ]
    }
   ],
   "source": [
    "# Quantitative evaluation of the model quality on the test set\n",
    "\n",
    "print (\"Predicting the people names on the testing set\")\n",
    "t0 = time()\n",
    "y_pred = clf.predict(X_test_pca)\n",
    "print (\"done in %0.3fs\" % (time() - t0))\n",
    "\n",
    "print (classification_report(y_test, y_pred, target_names=target_names))\n",
    "print (confusion_matrix(y_test, y_pred, labels=range(n_classes)))\n"
   ]
  }
 ],
 "metadata": {
  "accelerator": "GPU",
  "colab": {
   "collapsed_sections": [],
   "name": "EigenFaces.ipynb",
   "provenance": []
  },
  "kernelspec": {
   "display_name": "Python 3",
   "language": "python",
   "name": "python3"
  },
  "language_info": {
   "codemirror_mode": {
    "name": "ipython",
    "version": 3
   },
   "file_extension": ".py",
   "mimetype": "text/x-python",
   "name": "python",
   "nbconvert_exporter": "python",
   "pygments_lexer": "ipython3",
   "version": "3.7.6"
  }
 },
 "nbformat": 4,
 "nbformat_minor": 1
}
